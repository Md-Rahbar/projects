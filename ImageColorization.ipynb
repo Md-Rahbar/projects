{
 "cells": [
  {
   "cell_type": "markdown",
   "metadata": {},
   "source": [
    "### Import necessary libraries"
   ]
  },
  {
   "cell_type": "code",
   "execution_count": null,
   "metadata": {},
   "outputs": [],
   "source": [
    "import cv2\n",
    "import skimage\n",
    "import glob\n",
    "import numpy as np\n",
    "import pandas as pd\n",
    "from matplotlib import pyplot as plt\n",
    "from sklearn.neighbors import KNeighborsClassifier\n",
    "from skimage.segmentation import slic\n",
    "from skimage.util import img_as_float\n",
    "from scipy import ndimage as nd\n",
    "import warnings\n",
    "warnings.filterwarnings(\"ignore\")\n",
    "import matplotlib.pyplot as plt\n",
    "import matplotlib.image as mpimg\n",
    "%matplotlib inline\n",
    "import os"
   ]
  },
  {
   "cell_type": "markdown",
   "metadata": {},
   "source": [
    "### Feature Extraction Functions"
   ]
  },
  {
   "cell_type": "code",
   "execution_count": null,
   "metadata": {},
   "outputs": [],
   "source": [
    "# This function extracts features based on gaussian (sigma = 3 and sigma = 7) and\n",
    "# variance (size = 3)\n",
    "def extract_all(img):\n",
    "\n",
    "    img2 = img.reshape(-1)\n",
    "    \n",
    "    # First feature is grayvalue of pixel\n",
    "    df = pd.DataFrame()\n",
    "    df['GrayValue(I)'] = img2 \n",
    "\n",
    "    # Second feature is GAUSSIAN filter with sigma=3\n",
    "    gaussian_img = nd.gaussian_filter(img, sigma=3)\n",
    "    gaussian_img1 = gaussian_img.reshape(-1)\n",
    "    df['Gaussian s3'] = gaussian_img1\n",
    "\n",
    "    # Third feature is GAUSSIAN fiter with sigma=7\n",
    "    gaussian_img2 = nd.gaussian_filter(img, sigma=7)\n",
    "    gaussian_img3 = gaussian_img2.reshape(-1)\n",
    "    df['Gaussian s7'] = gaussian_img3    \n",
    "\n",
    "    # Third feature is generic filter that variance of pixel with size=3\n",
    "    variance_img = nd.generic_filter(img, np.var, size=3)\n",
    "    variance_img1 = variance_img.reshape(-1)\n",
    "    df['Variance s3'] = variance_img1\n",
    "    \n",
    "    return df"
   ]
  },
  {
   "cell_type": "code",
   "execution_count": null,
   "metadata": {},
   "outputs": [],
   "source": [
    "# This function extracts average pixel value of some neighbors\n",
    "# frame size : (distance * 2) + 1 x (distance * 2) + 1\n",
    "#default value of distance is 8 if the function is called without second parameter\n",
    "def extract_neighbors_features(img,distance = 8):\n",
    "\n",
    "    height,width = img.shape\n",
    "    X = []\n",
    "\n",
    "    for x in range(height):\n",
    "        for y in range(width):\n",
    "            neighbors = []\n",
    "            for k in range(x-distance, x+distance +1 ):\n",
    "                for p in range(y-distance, y+distance +1 ):\n",
    "                    if x == k and p == y:\n",
    "                        continue\n",
    "                    elif ((k>0 and p>0 ) and (k<height and p<width)):\n",
    "                        neighbors.append(img[k][p])\n",
    "                    else:\n",
    "                        neighbors.append(0)\n",
    "\n",
    "            X.append(sum(neighbors) / len(neighbors))\n",
    "\n",
    "    return X"
   ]
  },
  {
   "cell_type": "code",
   "execution_count": null,
   "metadata": {},
   "outputs": [],
   "source": [
    "from skimage.segmentation import slic, mark_boundaries\n",
    "from skimage import img_as_float\n",
    "\n",
    "def superpixel(image, status):\n",
    "    if len(image.shape) == 2:\n",
    "        # If the image is grayscale, apply slic without specifying channel_axis\n",
    "        segments = slic(img_as_float(image), n_segments=100, sigma=5, channel_axis=None)\n",
    "    elif len(image.shape) == 3:\n",
    "        # If the image is multichannel, use compactness=.1\n",
    "        segments = slic(img_as_float(image), n_segments=100, sigma=5, compactness=0.1)\n",
    "    else:\n",
    "        raise ValueError(\"Unsupported image shape\")\n",
    "\n",
    "    return segments\n"
   ]
  },
  {
   "cell_type": "markdown",
   "metadata": {},
   "source": [
    "### MAE Function"
   ]
  },
  {
   "cell_type": "code",
   "execution_count": null,
   "metadata": {},
   "outputs": [],
   "source": [
    "# Function to calculate Mean Absolute Error\n",
    "def calculate_mae(y_true,y_predict):\n",
    "    \n",
    "    # Calculate mean absolute error for every color according to MAE formula\n",
    "    error_b = float(sum([abs(float(item_true) - float(item_predict)) for item_true, item_predict in zip(y_true[:,0], y_predict[:,0])]) / len(y_true))\n",
    "    error_g = float(sum([abs(float(item_true) - float(item_predict)) for item_true, item_predict in zip(y_true[:,1], y_predict[:,1])]) / len(y_true))\n",
    "    error_r = float(sum([abs(float(item_true) - float(item_predict)) for item_true, item_predict in zip(y_true[:,2], y_predict[:,2])]) / len(y_true))\n",
    "    \n",
    "    # Return aveage of colours error\n",
    "    return (((error_b + error_g + error_r) / 3))\n"
   ]
  },
  {
   "cell_type": "code",
   "execution_count": null,
   "metadata": {},
   "outputs": [],
   "source": [
    "# Function to save predicted images in Outputs folder in Dataset folder\n",
    "def save_picture(test_data,rgb_data_name,y_predict):\n",
    "    \n",
    "    # If Outputs folder is not exist in directory of Dataset create it\n",
    "    if not os.path.exists('Outputs'):\n",
    "        os.makedirs('outputs')\n",
    "    \n",
    "    # Create an array for colorful image \n",
    "    height,width = test_data.shape\n",
    "    data = np.zeros((height, width, 3), dtype=np.uint8)\n",
    "\n",
    "    # Fill the data with predicted RGB values\n",
    "    tmp = 0\n",
    "    for i in range(height):\n",
    "        for k in range(width):\n",
    "            data[i,k] = [y_predict[tmp][0], y_predict[tmp][1], y_predict[tmp][2]]\n",
    "            tmp +=1\n",
    "            \n",
    "    # Save predicted image\n",
    "    cv2.imwrite('Outputs/' + rgb_data_name + '.jpg', data)\n",
    "    return data "
   ]
  },
  {
   "cell_type": "markdown",
   "metadata": {},
   "source": [
    "### Setting constant variables"
   ]
  },
  {
   "cell_type": "code",
   "execution_count": null,
   "metadata": {},
   "outputs": [],
   "source": [
    "distance = 1\n",
    "minImageIndex  = 1\n",
    "maxImageIndex  = 50"
   ]
  },
  {
   "cell_type": "markdown",
   "metadata": {},
   "source": [
    "### Read all images in Dataset and create input for model from images"
   ]
  },
  {
   "cell_type": "code",
   "execution_count": null,
   "metadata": {},
   "outputs": [],
   "source": [
    "# Read Images from Dataset folder\n",
    "\n",
    "# rgb_data using for source colorful images\n",
    "rgb_data = [cv2.imread(file, 1) for file in glob.glob('images/*source.png')]\n",
    "\n",
    "# rgb_data_names is using for image names\n",
    "rgb_data_names = [file.split(',')[0].split('\\\\')[1] for file in glob.glob(\"images/*source.png\")][minImageIndex-1:maxImageIndex]\n",
    "\n",
    "# train_data is grayscale of colorful source images\n",
    "train_data = [cv2.imread(file, 0) for file in glob.glob('images/*source.png')][minImageIndex-1:maxImageIndex]\n",
    "\n",
    "# test_data is using for grayscale type of target images\n",
    "test_data = [cv2.imread(file, 0) for file in glob.glob('images/*target.png')][minImageIndex-1:maxImageIndex]\n",
    "\n",
    "# accuracy_data is using for colorful groundtruth images\n",
    "accuracy_data = [cv2.imread(file, 1) for file in glob.glob('images/*groundtruth.png')][minImageIndex-1:maxImageIndex]"
   ]
  },
  {
   "cell_type": "code",
   "execution_count": null,
   "metadata": {},
   "outputs": [],
   "source": [
    "# Create an array for Mean Absolute Error\n",
    "MAE = []\n",
    "\n",
    "# Create a file with name ProjectTestImagesResults.txt for saving MAE values in it\n",
    "f = open(\"ProjectTestImagesResults.txt\", \"w\")\n",
    "for i in range(len(train_data)):   \n",
    "    \n",
    "    # preparing y (b, g, r)\n",
    "    y = rgb_data[i].reshape((-1,3))\n",
    "    \n",
    "    # preparing y_true (b, g, r)\n",
    "    y_true = accuracy_data[i].reshape((-1,3))       \n",
    "    \n",
    "    # preparing X variable\n",
    "    X1 = extract_all(train_data[i]).values\n",
    "    X2 = superpixel(train_data[i],False).reshape(-1,1)\n",
    "    X3 = extract_neighbors_features(train_data[i],distance)\n",
    "    X = np.c_[X1, X2, X3]    \n",
    "    # Now we have input for training the model \n",
    "    # We have total 6 feature in X which are\n",
    "    #Columns: GrayValue, Gaussians3, Gaussians7, GenericFilter(variance)s3, superpixel, averageOfFrameGrayValues    \n",
    "    \n",
    "    # preparing X_test variable\n",
    "    X1_test = extract_all(test_data[i]).values\n",
    "    X2_test = superpixel(test_data[i],False).reshape(-1,1)\n",
    "    X3_test = extract_neighbors_features(test_data[i],distance)\n",
    "    X_test = np.c_[X1_test, X2_test, X3_test]\n",
    "    # Now we have input X_test values too for predict RGB values from it\n",
    "    \n",
    "    # training model\n",
    "    knn_clf = KNeighborsClassifier()\n",
    "    knn_clf.fit(X,y)\n",
    "    \n",
    "    # testing model\n",
    "    y_predict = knn_clf.predict(X_test)\n",
    "    \n",
    "    # Calculate accuracy score\n",
    "    MAE.append(calculate_mae(y_true,y_predict))       \n",
    "\n",
    "    # Save Picture to Dataset/Outputs folder\n",
    "    predicted_picture = save_picture(test_data[i],rgb_data_names[i],y_predict)  \n",
    "    \n",
    "    # Plot Original and predicted images\n",
    "    fig, ax = plt.subplots(1, 2 , figsize=(16,8))\n",
    "    ax[0].imshow(cv2.cvtColor(accuracy_data[i], cv2.COLOR_BGR2RGB))\n",
    "    ax[0].set_title(\"Original Image of \" + rgb_data_names[i])\n",
    "\n",
    "    ax[1].imshow(cv2.cvtColor(predicted_picture, cv2.COLOR_BGR2RGB))\n",
    "    ax[1].set_title(\"Predicted Image of \" + rgb_data_names[i])\n",
    "    plt.show()\n",
    "    \n",
    "    print(\"Mean Absolute Error of\",rgb_data_names[i],\"is\",MAE[i]) \n",
    "    f.write(str(MAE[i]))\n",
    "    f.write('\\n')\n",
    "    "
   ]
  },
  {
   "cell_type": "code",
   "execution_count": null,
   "metadata": {},
   "outputs": [],
   "source": [
    "# Print average of mean absolute error to secreen\n",
    "print(\"Average of MAE is: \",sum(MAE) / maxImageIndex)"
   ]
  },
  {
   "cell_type": "code",
   "execution_count": null,
   "metadata": {},
   "outputs": [],
   "source": [
    "# Write average of mean absolute error to file\n",
    "f.write(str(sum(MAE) / maxImageIndex))\n",
    "\n",
    "# Close the file\n",
    "f.close()"
   ]
  }
 ],
 "metadata": {
  "kernelspec": {
   "display_name": "Python 3",
   "language": "python",
   "name": "python3"
  },
  "language_info": {
   "codemirror_mode": {
    "name": "ipython",
    "version": 3
   },
   "file_extension": ".py",
   "mimetype": "text/x-python",
   "name": "python",
   "nbconvert_exporter": "python",
   "pygments_lexer": "ipython3",
   "version": "3.11.4"
  }
 },
 "nbformat": 4,
 "nbformat_minor": 4
}
